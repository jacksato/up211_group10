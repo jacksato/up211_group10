{
 "cells": [
  {
   "cell_type": "markdown",
   "id": "3c62afab-bd60-41a0-af74-2c86c32b7645",
   "metadata": {},
   "source": [
    "# Census Data\n",
    "Exploring census data"
   ]
  },
  {
   "cell_type": "code",
   "execution_count": 1,
   "id": "e2ab3f06-699a-4022-bc91-7cc155e4be36",
   "metadata": {},
   "outputs": [],
   "source": [
    "# import required packages\n",
    "import pandas as pd\n",
    "import geopandas as gpd\n",
    "import numpy as np\n",
    "import folium\n",
    "import statistics"
   ]
  },
  {
   "cell_type": "code",
   "execution_count": 2,
   "id": "8e095eb9-1f10-4a6a-908b-be3a132588f4",
   "metadata": {},
   "outputs": [],
   "source": [
    "# import data with pandas\n",
    "df_race = pd.read_csv(\"data/2020LA_Census.csv\",\n",
    "    dtype=\n",
    "    {\n",
    "        'STATE':str,\n",
    "        'COUNTY':str,\n",
    "        'TRACT':str,\n",
    "        'BLKGRP':str,\n",
    "    }\n",
    "                )"
   ]
  },
  {
   "cell_type": "code",
   "execution_count": 3,
   "id": "b52573e6-c453-40bf-a825-d630802a6058",
   "metadata": {},
   "outputs": [],
   "source": [
    "df_commute = pd.read_csv(\"data/2022_cenB08122.csv\",\n",
    "                        dtype =\n",
    "                        {\n",
    "                            'FIPS':str\n",
    "                        }\n",
    "                        )\n",
    "df_poverty = pd.read_csv(\"data/22_cenS1701.csv\",\n",
    "                        dtype =\n",
    "                        {\n",
    "                            'FIPS':str\n",
    "                        }\n",
    "                        )"
   ]
  },
  {
   "cell_type": "code",
   "execution_count": 4,
   "id": "9687d70c-f577-4adc-99d7-c24d5579e116",
   "metadata": {},
   "outputs": [
    {
     "data": {
      "text/plain": [
       "1354    06037408301\n",
       "1762    06037536103\n",
       "269     06037131022\n",
       "479     06037191302\n",
       "370     06037141400\n",
       "419     06037185320\n",
       "2055    06037577800\n",
       "1638    06037504002\n",
       "1801    06037542401\n",
       "2395    06037910810\n",
       "Name: FIPS, dtype: object"
      ]
     },
     "execution_count": 4,
     "metadata": {},
     "output_type": "execute_result"
    }
   ],
   "source": [
    "df_commute['FIPS'].sample(10)"
   ]
  },
  {
   "cell_type": "code",
   "execution_count": 5,
   "id": "09b2ea09-7b43-4ed8-9b69-4afd918285c0",
   "metadata": {},
   "outputs": [],
   "source": [
    "# Remove block group leading zero\n",
    "BLKGRP_trimmed = []\n",
    "for i in df_race.BLKGRP:\n",
    "    i = i.replace(i[0], \"\", 1)\n",
    "    BLKGRP_trimmed.append(i)\n",
    "\n",
    "df_race.BLKGRP = BLKGRP_trimmed"
   ]
  },
  {
   "cell_type": "code",
   "execution_count": 6,
   "id": "aa6c443a-7201-49e5-b138-1b91176c765a",
   "metadata": {},
   "outputs": [
    {
     "data": {
      "text/plain": [
       "90635    06037980016\n",
       "10840    06037185102\n",
       "51359    06037530500\n",
       "4114     06037119802\n",
       "13962    06037201700\n",
       "74936    06037700501\n",
       "16304    06037214100\n",
       "85112    06037910804\n",
       "16187    06037213201\n",
       "44753    06037464000\n",
       "76130    06037701601\n",
       "74767    06037700200\n",
       "45479    06037480500\n",
       "64599    06037574201\n",
       "48809    06037502003\n",
       "16486    06037214800\n",
       "45095    06037480012\n",
       "2913     06037113232\n",
       "82261    06037901209\n",
       "33425    06037402101\n",
       "56713    06037542106\n",
       "45096    06037480012\n",
       "10525    06037183222\n",
       "4791     06037122420\n",
       "89348    06037920339\n",
       "40900    06037431400\n",
       "58998    06037551201\n",
       "39964    06037430302\n",
       "20859    06037239202\n",
       "77999    06037800104\n",
       "14852    06037206052\n",
       "66031    06037576502\n",
       "2908     06037113232\n",
       "25770    06037277400\n",
       "46302    06037481404\n",
       "35315    06037403801\n",
       "26568    06037294302\n",
       "66330    06037577100\n",
       "23173    06037267502\n",
       "67621    06037600702\n",
       "Name: FIPS, dtype: object"
      ]
     },
     "execution_count": 6,
     "metadata": {},
     "output_type": "execute_result"
    }
   ],
   "source": [
    "# Create FIPS from columns\n",
    "df_race['FIPS'] = (\n",
    "    df_race.STATE + \n",
    "    df_race.COUNTY +\n",
    "    df_race.TRACT + \n",
    "    df_race.BLKGRP\n",
    ")\n",
    "\n",
    "df_race.FIPS.sample(40)"
   ]
  },
  {
   "cell_type": "code",
   "execution_count": 7,
   "id": "c64638f9-afe9-4f9b-8c3e-1b4623da535f",
   "metadata": {},
   "outputs": [
    {
     "data": {
      "text/plain": [
       "1236    06037402902\n",
       "1689    06037532700\n",
       "799     06037231210\n",
       "20      06037104108\n",
       "2044    06037577100\n",
       "108     06037113323\n",
       "1365    06037408626\n",
       "1590    06037501501\n",
       "116     06037115101\n",
       "339     06037137402\n",
       "Name: FIPS, dtype: object"
      ]
     },
     "execution_count": 7,
     "metadata": {},
     "output_type": "execute_result"
    }
   ],
   "source": [
    "df_poverty.FIPS.sample(10)"
   ]
  },
  {
   "cell_type": "code",
   "execution_count": 37,
   "id": "35ff8b1b-0173-4592-af4c-8a0ee16419b0",
   "metadata": {},
   "outputs": [
    {
     "data": {
      "text/plain": [
       "1489    06037462900\n",
       "279     06037131801\n",
       "2049    06037577504\n",
       "898     06037241202\n",
       "167     06037121010\n",
       "2239    06037700200\n",
       "620     06037208802\n",
       "863     06037238200\n",
       "372     06037141600\n",
       "1506    06037480011\n",
       "Name: FIPS, dtype: object"
      ]
     },
     "execution_count": 37,
     "metadata": {},
     "output_type": "execute_result"
    }
   ],
   "source": [
    "df_commute.FIPS.sample(10)"
   ]
  },
  {
   "cell_type": "code",
   "execution_count": 8,
   "id": "4abab206-7d8c-48b2-afc0-c0b667d66d44",
   "metadata": {},
   "outputs": [
    {
     "data": {
      "text/plain": [
       "['SUBMCD',\n",
       " 'SUBMCDCC',\n",
       " 'SUBMCDNS',\n",
       " 'ESTATE',\n",
       " 'ESTATECC',\n",
       " 'ESTATENS',\n",
       " 'UA',\n",
       " 'UATYPE',\n",
       " 'UR',\n",
       " 'CD118',\n",
       " 'CD119',\n",
       " 'CD120',\n",
       " 'CD121',\n",
       " 'SLDU22',\n",
       " 'SLDU24',\n",
       " 'SLDU26',\n",
       " 'SLDU28',\n",
       " 'SLDL22',\n",
       " 'SLDL24',\n",
       " 'SLDL26',\n",
       " 'SLDL28',\n",
       " 'VTD',\n",
       " 'VTDI',\n",
       " 'ZCTA',\n",
       " 'PUMA',\n",
       " 'GCUNI',\n",
       " 'PARTFLAG']"
      ]
     },
     "execution_count": 8,
     "metadata": {},
     "output_type": "execute_result"
    }
   ],
   "source": [
    "df_race.columns[df_race.isna().all()].tolist()"
   ]
  },
  {
   "cell_type": "code",
   "execution_count": 11,
   "id": "96e86940-d075-49cb-b941-3233d2354010",
   "metadata": {},
   "outputs": [
    {
     "data": {
      "text/plain": [
       "[]"
      ]
     },
     "execution_count": 11,
     "metadata": {},
     "output_type": "execute_result"
    }
   ],
   "source": [
    "df_commute.columns[df_commute.isna().all()].tolist()"
   ]
  },
  {
   "cell_type": "code",
   "execution_count": 12,
   "id": "f463e19e-5e8a-45e1-a075-003b87bc1d96",
   "metadata": {},
   "outputs": [
    {
     "data": {
      "text/plain": [
       "[]"
      ]
     },
     "execution_count": 12,
     "metadata": {},
     "output_type": "execute_result"
    }
   ],
   "source": [
    "df_poverty.columns[df_poverty.isna().all()].tolist()"
   ]
  },
  {
   "cell_type": "code",
   "execution_count": 13,
   "id": "c48917df-f604-4007-876a-d27f35ea8012",
   "metadata": {},
   "outputs": [],
   "source": [
    "# axis = 0 drops rows axis = 1 drops columns with null\n",
    "df_race = df_race.dropna(axis=1,how=\"all\")\n",
    "df_poverty = df_poverty.dropna(axis=1,how=\"all\")\n",
    "df_commute = df_commute.dropna(axis=1,how=\"all\")"
   ]
  },
  {
   "cell_type": "code",
   "execution_count": 18,
   "id": "90f5fec8-334e-47dc-8920-c5b4992adb7a",
   "metadata": {},
   "outputs": [
    {
     "data": {
      "text/html": [
       "<div>\n",
       "<style scoped>\n",
       "    .dataframe tbody tr th:only-of-type {\n",
       "        vertical-align: middle;\n",
       "    }\n",
       "\n",
       "    .dataframe tbody tr th {\n",
       "        vertical-align: top;\n",
       "    }\n",
       "\n",
       "    .dataframe thead th {\n",
       "        text-align: right;\n",
       "    }\n",
       "</style>\n",
       "<table border=\"1\" class=\"dataframe\">\n",
       "  <thead>\n",
       "    <tr style=\"text-align: right;\">\n",
       "      <th></th>\n",
       "      <th>FIPS</th>\n",
       "      <th>White</th>\n",
       "      <th>Black</th>\n",
       "      <th>AmIndian</th>\n",
       "      <th>Asian</th>\n",
       "      <th>Hawaiian</th>\n",
       "      <th>Other</th>\n",
       "    </tr>\n",
       "  </thead>\n",
       "  <tbody>\n",
       "    <tr>\n",
       "      <th>0</th>\n",
       "      <td>06037101110</td>\n",
       "      <td>66</td>\n",
       "      <td>2</td>\n",
       "      <td>3</td>\n",
       "      <td>9</td>\n",
       "      <td>0</td>\n",
       "      <td>15</td>\n",
       "    </tr>\n",
       "    <tr>\n",
       "      <th>1</th>\n",
       "      <td>06037101110</td>\n",
       "      <td>46</td>\n",
       "      <td>6</td>\n",
       "      <td>0</td>\n",
       "      <td>8</td>\n",
       "      <td>0</td>\n",
       "      <td>17</td>\n",
       "    </tr>\n",
       "    <tr>\n",
       "      <th>2</th>\n",
       "      <td>06037101110</td>\n",
       "      <td>49</td>\n",
       "      <td>1</td>\n",
       "      <td>4</td>\n",
       "      <td>7</td>\n",
       "      <td>0</td>\n",
       "      <td>4</td>\n",
       "    </tr>\n",
       "    <tr>\n",
       "      <th>3</th>\n",
       "      <td>06037101110</td>\n",
       "      <td>49</td>\n",
       "      <td>0</td>\n",
       "      <td>1</td>\n",
       "      <td>1</td>\n",
       "      <td>0</td>\n",
       "      <td>5</td>\n",
       "    </tr>\n",
       "    <tr>\n",
       "      <th>4</th>\n",
       "      <td>06037101110</td>\n",
       "      <td>109</td>\n",
       "      <td>0</td>\n",
       "      <td>1</td>\n",
       "      <td>11</td>\n",
       "      <td>0</td>\n",
       "      <td>15</td>\n",
       "    </tr>\n",
       "    <tr>\n",
       "      <th>5</th>\n",
       "      <td>06037101110</td>\n",
       "      <td>95</td>\n",
       "      <td>3</td>\n",
       "      <td>1</td>\n",
       "      <td>7</td>\n",
       "      <td>0</td>\n",
       "      <td>5</td>\n",
       "    </tr>\n",
       "    <tr>\n",
       "      <th>6</th>\n",
       "      <td>06037101110</td>\n",
       "      <td>151</td>\n",
       "      <td>0</td>\n",
       "      <td>0</td>\n",
       "      <td>26</td>\n",
       "      <td>0</td>\n",
       "      <td>19</td>\n",
       "    </tr>\n",
       "    <tr>\n",
       "      <th>7</th>\n",
       "      <td>06037101110</td>\n",
       "      <td>219</td>\n",
       "      <td>16</td>\n",
       "      <td>0</td>\n",
       "      <td>37</td>\n",
       "      <td>0</td>\n",
       "      <td>87</td>\n",
       "    </tr>\n",
       "    <tr>\n",
       "      <th>8</th>\n",
       "      <td>06037101110</td>\n",
       "      <td>246</td>\n",
       "      <td>5</td>\n",
       "      <td>6</td>\n",
       "      <td>22</td>\n",
       "      <td>3</td>\n",
       "      <td>108</td>\n",
       "    </tr>\n",
       "    <tr>\n",
       "      <th>9</th>\n",
       "      <td>06037101110</td>\n",
       "      <td>71</td>\n",
       "      <td>0</td>\n",
       "      <td>0</td>\n",
       "      <td>19</td>\n",
       "      <td>0</td>\n",
       "      <td>9</td>\n",
       "    </tr>\n",
       "    <tr>\n",
       "      <th>10</th>\n",
       "      <td>06037101110</td>\n",
       "      <td>40</td>\n",
       "      <td>8</td>\n",
       "      <td>0</td>\n",
       "      <td>1</td>\n",
       "      <td>0</td>\n",
       "      <td>13</td>\n",
       "    </tr>\n",
       "    <tr>\n",
       "      <th>11</th>\n",
       "      <td>06037101110</td>\n",
       "      <td>181</td>\n",
       "      <td>0</td>\n",
       "      <td>0</td>\n",
       "      <td>17</td>\n",
       "      <td>1</td>\n",
       "      <td>23</td>\n",
       "    </tr>\n",
       "    <tr>\n",
       "      <th>12</th>\n",
       "      <td>06037101110</td>\n",
       "      <td>46</td>\n",
       "      <td>1</td>\n",
       "      <td>3</td>\n",
       "      <td>1</td>\n",
       "      <td>0</td>\n",
       "      <td>3</td>\n",
       "    </tr>\n",
       "    <tr>\n",
       "      <th>13</th>\n",
       "      <td>06037101110</td>\n",
       "      <td>90</td>\n",
       "      <td>2</td>\n",
       "      <td>0</td>\n",
       "      <td>5</td>\n",
       "      <td>1</td>\n",
       "      <td>20</td>\n",
       "    </tr>\n",
       "    <tr>\n",
       "      <th>14</th>\n",
       "      <td>06037101110</td>\n",
       "      <td>84</td>\n",
       "      <td>0</td>\n",
       "      <td>0</td>\n",
       "      <td>9</td>\n",
       "      <td>0</td>\n",
       "      <td>18</td>\n",
       "    </tr>\n",
       "    <tr>\n",
       "      <th>15</th>\n",
       "      <td>06037101110</td>\n",
       "      <td>94</td>\n",
       "      <td>0</td>\n",
       "      <td>1</td>\n",
       "      <td>6</td>\n",
       "      <td>0</td>\n",
       "      <td>17</td>\n",
       "    </tr>\n",
       "    <tr>\n",
       "      <th>16</th>\n",
       "      <td>06037101110</td>\n",
       "      <td>121</td>\n",
       "      <td>0</td>\n",
       "      <td>0</td>\n",
       "      <td>3</td>\n",
       "      <td>0</td>\n",
       "      <td>3</td>\n",
       "    </tr>\n",
       "    <tr>\n",
       "      <th>17</th>\n",
       "      <td>06037101110</td>\n",
       "      <td>99</td>\n",
       "      <td>0</td>\n",
       "      <td>4</td>\n",
       "      <td>11</td>\n",
       "      <td>1</td>\n",
       "      <td>20</td>\n",
       "    </tr>\n",
       "    <tr>\n",
       "      <th>18</th>\n",
       "      <td>06037101110</td>\n",
       "      <td>88</td>\n",
       "      <td>7</td>\n",
       "      <td>7</td>\n",
       "      <td>3</td>\n",
       "      <td>0</td>\n",
       "      <td>37</td>\n",
       "    </tr>\n",
       "    <tr>\n",
       "      <th>19</th>\n",
       "      <td>06037101110</td>\n",
       "      <td>249</td>\n",
       "      <td>6</td>\n",
       "      <td>14</td>\n",
       "      <td>139</td>\n",
       "      <td>1</td>\n",
       "      <td>132</td>\n",
       "    </tr>\n",
       "  </tbody>\n",
       "</table>\n",
       "</div>"
      ],
      "text/plain": [
       "           FIPS  White  Black  AmIndian  Asian  Hawaiian  Other\n",
       "0   06037101110     66      2         3      9         0     15\n",
       "1   06037101110     46      6         0      8         0     17\n",
       "2   06037101110     49      1         4      7         0      4\n",
       "3   06037101110     49      0         1      1         0      5\n",
       "4   06037101110    109      0         1     11         0     15\n",
       "5   06037101110     95      3         1      7         0      5\n",
       "6   06037101110    151      0         0     26         0     19\n",
       "7   06037101110    219     16         0     37         0     87\n",
       "8   06037101110    246      5         6     22         3    108\n",
       "9   06037101110     71      0         0     19         0      9\n",
       "10  06037101110     40      8         0      1         0     13\n",
       "11  06037101110    181      0         0     17         1     23\n",
       "12  06037101110     46      1         3      1         0      3\n",
       "13  06037101110     90      2         0      5         1     20\n",
       "14  06037101110     84      0         0      9         0     18\n",
       "15  06037101110     94      0         1      6         0     17\n",
       "16  06037101110    121      0         0      3         0      3\n",
       "17  06037101110     99      0         4     11         1     20\n",
       "18  06037101110     88      7         7      3         0     37\n",
       "19  06037101110    249      6        14    139         1    132"
      ]
     },
     "execution_count": 18,
     "metadata": {},
     "output_type": "execute_result"
    }
   ],
   "source": [
    "# Trim Race dataset columns\n",
    "race_columns = [\n",
    "    'FIPS',\n",
    "    'White',\n",
    "    'Black',\n",
    "    'AmIndian',\n",
    "    'Asian',\n",
    "    'Hawaiian',\n",
    "    'Other'\n",
    "]\n",
    "df_race_trimmed = df_race[race_columns]\n",
    "df_race_trimmed.head(20)"
   ]
  },
  {
   "cell_type": "code",
   "execution_count": 29,
   "id": "4b94751b-17e1-4a63-a49c-0f54e0e29cbc",
   "metadata": {},
   "outputs": [],
   "source": [
    "commute_columns = [\n",
    "    'FIPS',\n",
    "# Drove alone (general format is first column is total, then below 100FPL then 100-149FPL then above 150FPL)\n",
    "    'B08122_005E',\n",
    "    'B08122_006E',\n",
    "    'B08122_007E',\n",
    "    'B08122_008E',\n",
    "# Drove carpooled\n",
    "    'B08122_009E',\n",
    "    'B08122_010E',\n",
    "    'B08122_011E',\n",
    "    'B08122_012E',\n",
    "# Public transit\n",
    "    'B08122_013E',\n",
    "    'B08122_014E',\n",
    "    'B08122_015E',\n",
    "    'B08122_016E'\n",
    "]\n",
    "df_commute_trimmed = df_commute[commute_columns]"
   ]
  },
  {
   "cell_type": "code",
   "execution_count": 30,
   "id": "0daef83f-5a69-4b8a-b230-2acb11b9d1e5",
   "metadata": {},
   "outputs": [],
   "source": [
    "poverty_columns = [\n",
    "    'FIPS',\n",
    "# Total count\n",
    "    'S1701_C01_001E',\n",
    "# Poverty counts by age\n",
    "    'S1701_C01_002E',\n",
    "    'S1701_C01_003E',\n",
    "    'S1701_C01_004E',\n",
    "    'S1701_C01_005E',\n",
    "    'S1701_C01_006E',\n",
    "    'S1701_C01_007E',\n",
    "    'S1701_C01_008E',\n",
    "    'S1701_C01_009E',\n",
    "    'S1701_C01_010E',\n",
    "# Poverty counts by sex\n",
    "    'S1701_C01_011E',\n",
    "    'S1701_C01_012E',\n",
    "# Poverty counts by race\n",
    "    'S1701_C01_013E',\n",
    "    'S1701_C01_014E',\n",
    "    'S1701_C01_015E',\n",
    "    'S1701_C01_016E',\n",
    "    'S1701_C01_017E',\n",
    "    'S1701_C01_018E',\n",
    "    'S1701_C01_019E',\n",
    "    'S1701_C01_020E',\n",
    "    'S1701_C01_021E',\n",
    "]\n",
    "df_poverty_trimmed = df_poverty[poverty_columns]"
   ]
  },
  {
   "cell_type": "code",
   "execution_count": 19,
   "id": "b6765947-c541-4624-8b6f-5dc779043d85",
   "metadata": {},
   "outputs": [
    {
     "data": {
      "text/plain": [
       "3259427"
      ]
     },
     "execution_count": 19,
     "metadata": {},
     "output_type": "execute_result"
    }
   ],
   "source": [
    "# Double check counts are correct\n",
    "white_total = df_race_trimmed['White'].sum()\n",
    "white_total"
   ]
  },
  {
   "cell_type": "code",
   "execution_count": 20,
   "id": "1a8178e6-a4a9-460e-8e76-07728584d89e",
   "metadata": {},
   "outputs": [
    {
     "data": {
      "text/plain": [
       "<Axes: >"
      ]
     },
     "execution_count": 20,
     "metadata": {},
     "output_type": "execute_result"
    },
    {
     "data": {
      "image/png": "[encoded data removed]",
      "text/plain": [
       "<Figure size 640x480 with 1 Axes>"
      ]
     },
     "metadata": {},
     "output_type": "display_data"
    }
   ],
   "source": [
    "# read in a geojson file downloaded from the LA Times\n",
    "tracts=gpd.read_file('data/Census_Tracts_2020.geojson')\n",
    "tracts.plot()"
   ]
  },
  {
   "cell_type": "code",
   "execution_count": 21,
   "id": "84b27a31-29c4-4e60-9319-6ca1e8a8778e",
   "metadata": {},
   "outputs": [
    {
     "data": {
      "text/html": [
       "<div>\n",
       "<style scoped>\n",
       "    .dataframe tbody tr th:only-of-type {\n",
       "        vertical-align: middle;\n",
       "    }\n",
       "\n",
       "    .dataframe tbody tr th {\n",
       "        vertical-align: top;\n",
       "    }\n",
       "\n",
       "    .dataframe thead th {\n",
       "        text-align: right;\n",
       "    }\n",
       "</style>\n",
       "<table border=\"1\" class=\"dataframe\">\n",
       "  <thead>\n",
       "    <tr style=\"text-align: right;\">\n",
       "      <th></th>\n",
       "      <th>FIPS</th>\n",
       "      <th>geometry</th>\n",
       "    </tr>\n",
       "  </thead>\n",
       "  <tbody>\n",
       "    <tr>\n",
       "      <th>0</th>\n",
       "      <td>06037101110</td>\n",
       "      <td>POLYGON ((-118.28491 34.25948, -118.28492 34.2...</td>\n",
       "    </tr>\n",
       "    <tr>\n",
       "      <th>1</th>\n",
       "      <td>06037101122</td>\n",
       "      <td>POLYGON ((-118.29015 34.27417, -118.29015 34.2...</td>\n",
       "    </tr>\n",
       "    <tr>\n",
       "      <th>2</th>\n",
       "      <td>06037101220</td>\n",
       "      <td>POLYGON ((-118.28100 34.25592, -118.28198 34.2...</td>\n",
       "    </tr>\n",
       "    <tr>\n",
       "      <th>3</th>\n",
       "      <td>06037101221</td>\n",
       "      <td>POLYGON ((-118.28735 34.25591, -118.28863 34.2...</td>\n",
       "    </tr>\n",
       "    <tr>\n",
       "      <th>4</th>\n",
       "      <td>06037101222</td>\n",
       "      <td>POLYGON ((-118.28594 34.25405, -118.28594 34.2...</td>\n",
       "    </tr>\n",
       "  </tbody>\n",
       "</table>\n",
       "</div>"
      ],
      "text/plain": [
       "          FIPS                                           geometry\n",
       "0  06037101110  POLYGON ((-118.28491 34.25948, -118.28492 34.2...\n",
       "1  06037101122  POLYGON ((-118.29015 34.27417, -118.29015 34.2...\n",
       "2  06037101220  POLYGON ((-118.28100 34.25592, -118.28198 34.2...\n",
       "3  06037101221  POLYGON ((-118.28735 34.25591, -118.28863 34.2...\n",
       "4  06037101222  POLYGON ((-118.28594 34.25405, -118.28594 34.2..."
      ]
     },
     "execution_count": 21,
     "metadata": {},
     "output_type": "execute_result"
    }
   ],
   "source": [
    "tracts['FIPS'] = (\n",
    "    '06037' + tracts.CT20\n",
    ")\n",
    "tracts_trimmed = tracts[['FIPS', 'geometry']]\n",
    "tracts_trimmed.head()"
   ]
  },
  {
   "cell_type": "code",
   "execution_count": 24,
   "id": "a3390a80-f809-4a82-b0e1-0ce8ca351989",
   "metadata": {},
   "outputs": [
    {
     "data": {
      "text/html": [
       "<div>\n",
       "<style scoped>\n",
       "    .dataframe tbody tr th:only-of-type {\n",
       "        vertical-align: middle;\n",
       "    }\n",
       "\n",
       "    .dataframe tbody tr th {\n",
       "        vertical-align: top;\n",
       "    }\n",
       "\n",
       "    .dataframe thead th {\n",
       "        text-align: right;\n",
       "    }\n",
       "</style>\n",
       "<table border=\"1\" class=\"dataframe\">\n",
       "  <thead>\n",
       "    <tr style=\"text-align: right;\">\n",
       "      <th></th>\n",
       "      <th>FIPS</th>\n",
       "      <th>geometry</th>\n",
       "      <th>White</th>\n",
       "      <th>Black</th>\n",
       "      <th>AmIndian</th>\n",
       "      <th>Asian</th>\n",
       "      <th>Hawaiian</th>\n",
       "      <th>Other</th>\n",
       "    </tr>\n",
       "  </thead>\n",
       "  <tbody>\n",
       "    <tr>\n",
       "      <th>0</th>\n",
       "      <td>06037101110</td>\n",
       "      <td>POLYGON ((-118.28491 34.25948, -118.28492 34.2...</td>\n",
       "      <td>66</td>\n",
       "      <td>2</td>\n",
       "      <td>3</td>\n",
       "      <td>9</td>\n",
       "      <td>0</td>\n",
       "      <td>15</td>\n",
       "    </tr>\n",
       "    <tr>\n",
       "      <th>1</th>\n",
       "      <td>06037101110</td>\n",
       "      <td>POLYGON ((-118.28491 34.25948, -118.28492 34.2...</td>\n",
       "      <td>46</td>\n",
       "      <td>6</td>\n",
       "      <td>0</td>\n",
       "      <td>8</td>\n",
       "      <td>0</td>\n",
       "      <td>17</td>\n",
       "    </tr>\n",
       "    <tr>\n",
       "      <th>2</th>\n",
       "      <td>06037101110</td>\n",
       "      <td>POLYGON ((-118.28491 34.25948, -118.28492 34.2...</td>\n",
       "      <td>49</td>\n",
       "      <td>1</td>\n",
       "      <td>4</td>\n",
       "      <td>7</td>\n",
       "      <td>0</td>\n",
       "      <td>4</td>\n",
       "    </tr>\n",
       "    <tr>\n",
       "      <th>3</th>\n",
       "      <td>06037101110</td>\n",
       "      <td>POLYGON ((-118.28491 34.25948, -118.28492 34.2...</td>\n",
       "      <td>49</td>\n",
       "      <td>0</td>\n",
       "      <td>1</td>\n",
       "      <td>1</td>\n",
       "      <td>0</td>\n",
       "      <td>5</td>\n",
       "    </tr>\n",
       "    <tr>\n",
       "      <th>4</th>\n",
       "      <td>06037101110</td>\n",
       "      <td>POLYGON ((-118.28491 34.25948, -118.28492 34.2...</td>\n",
       "      <td>109</td>\n",
       "      <td>0</td>\n",
       "      <td>1</td>\n",
       "      <td>11</td>\n",
       "      <td>0</td>\n",
       "      <td>15</td>\n",
       "    </tr>\n",
       "  </tbody>\n",
       "</table>\n",
       "</div>"
      ],
      "text/plain": [
       "          FIPS                                           geometry  White  \\\n",
       "0  06037101110  POLYGON ((-118.28491 34.25948, -118.28492 34.2...     66   \n",
       "1  06037101110  POLYGON ((-118.28491 34.25948, -118.28492 34.2...     46   \n",
       "2  06037101110  POLYGON ((-118.28491 34.25948, -118.28492 34.2...     49   \n",
       "3  06037101110  POLYGON ((-118.28491 34.25948, -118.28492 34.2...     49   \n",
       "4  06037101110  POLYGON ((-118.28491 34.25948, -118.28492 34.2...    109   \n",
       "\n",
       "   Black  AmIndian  Asian  Hawaiian  Other  \n",
       "0      2         3      9         0     15  \n",
       "1      6         0      8         0     17  \n",
       "2      1         4      7         0      4  \n",
       "3      0         1      1         0      5  \n",
       "4      0         1     11         0     15  "
      ]
     },
     "execution_count": 24,
     "metadata": {},
     "output_type": "execute_result"
    }
   ],
   "source": [
    "race_tracts = tracts_trimmed.merge(df_race_trimmed,on=\"FIPS\")\n",
    "race_tracts.head()"
   ]
  },
  {
   "cell_type": "code",
   "execution_count": 31,
   "id": "693ee3d1-0612-435e-8328-23589bca3c1e",
   "metadata": {},
   "outputs": [],
   "source": [
    "commute_tracts = tracts_trimmed.merge(df_commute_trimmed,on=\"FIPS\")"
   ]
  },
  {
   "cell_type": "code",
   "execution_count": 32,
   "id": "ab4348c7-00e3-4228-82ff-a4f52afc2f42",
   "metadata": {},
   "outputs": [],
   "source": [
    "race_tracts = tracts_trimmed.merge(df_poverty_trimmed,on=\"FIPS\")"
   ]
  },
  {
   "cell_type": "code",
   "execution_count": null,
   "id": "66a5f8d6-25b6-46d8-919b-25d7aedd6400",
   "metadata": {},
   "outputs": [],
   "source": []
  }
 ],
 "metadata": {
  "kernelspec": {
   "display_name": "Python 3 (ipykernel)",
   "language": "python",
   "name": "python3"
  },
  "language_info": {
   "codemirror_mode": {
    "name": "ipython",
    "version": 3
   },
   "file_extension": ".py",
   "mimetype": "text/x-python",
   "name": "python",
   "nbconvert_exporter": "python",
   "pygments_lexer": "ipython3",
   "version": "3.11.7"
  }
 },
 "nbformat": 4,
 "nbformat_minor": 5
}
